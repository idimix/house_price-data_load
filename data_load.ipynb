{
 "cells": [
  {
   "cell_type": "code",
   "execution_count": 1,
   "id": "870a1090-f4ae-45a0-aa93-0960f5c6478d",
   "metadata": {
    "tags": []
   },
   "outputs": [],
   "source": [
    "%load_ext autoreload\n",
    "%autoreload 2"
   ]
  },
  {
   "cell_type": "code",
   "execution_count": 2,
   "id": "453c78e8-6822-4123-bf9d-ed1ae9dd7bea",
   "metadata": {
    "tags": [
     "parameters"
    ]
   },
   "outputs": [],
   "source": [
    "# specify substep parameters for interactive run\n",
    "# this cell will be replaced during job run with the parameters from json within params subfolder\n",
    "substep_params={\n",
    "}"
   ]
  },
  {
   "cell_type": "code",
   "execution_count": 3,
   "id": "927920fd-d2f1-4b5f-b7f1-bea242a09457",
   "metadata": {},
   "outputs": [
    {
     "data": {
      "text/markdown": [
       "**Pipeline params:**\n"
      ],
      "text/plain": [
       "<IPython.core.display.Markdown object>"
      ]
     },
     "metadata": {},
     "output_type": "display_data"
    },
    {
     "name": "stdout",
     "output_type": "stream",
     "text": [
      "{'env_name': 'user',\n",
      " 'pipeline_name': 'example_median_house_price',\n",
      " 'zone_name': 'test'}\n",
      "\n",
      "\n"
     ]
    },
    {
     "data": {
      "text/markdown": [
       "**Step params:**\n"
      ],
      "text/plain": [
       "<IPython.core.display.Markdown object>"
      ]
     },
     "metadata": {},
     "output_type": "display_data"
    },
    {
     "name": "stdout",
     "output_type": "stream",
     "text": [
      "{}\n",
      "\n",
      "\n"
     ]
    }
   ],
   "source": [
    "# load pipeline and step parameters - do not edit\n",
    "from sinara.substep import get_pipeline_params, get_step_params\n",
    "pipeline_params = get_pipeline_params(pprint=True)\n",
    "step_params = get_step_params(pprint=True)"
   ]
  },
  {
   "cell_type": "code",
   "execution_count": 4,
   "id": "f3818420-6085-43ea-b97e-578742794e1e",
   "metadata": {
    "tags": []
   },
   "outputs": [
    {
     "data": {
      "text/markdown": [
       "**STEP NAME:**\n"
      ],
      "text/plain": [
       "<IPython.core.display.Markdown object>"
      ]
     },
     "metadata": {},
     "output_type": "display_data"
    },
    {
     "name": "stdout",
     "output_type": "stream",
     "text": [
      "'data_load'\n",
      "\n",
      "\n"
     ]
    },
    {
     "data": {
      "text/markdown": [
       "**OUTPUTS:**\n"
      ],
      "text/plain": [
       "<IPython.core.display.Markdown object>"
      ]
     },
     "metadata": {},
     "output_type": "display_data"
    },
    {
     "name": "stdout",
     "output_type": "stream",
     "text": [
      "[{'user.example_median_house_price.test.data_load.boston_dataset': '/data/home/jovyan/example_median_house_price/test/data_load/run-24-06-10-110046/boston_dataset'}]\n",
      "\n",
      "\n"
     ]
    }
   ],
   "source": [
    "#3 define substep interface\n",
    "from sinara.substep import NotebookSubstep, ENV_NAME, PIPELINE_NAME, ZONE_NAME, STEP_NAME, RUN_ID, ENTITY_NAME, ENTITY_PATH, SUBSTEP_NAME\n",
    "\n",
    "substep = NotebookSubstep(pipeline_params, step_params, substep_params)\n",
    "\n",
    "substep.interface(\n",
    "    outputs = \n",
    "    [\n",
    "        { ENTITY_NAME: \"boston_dataset\" }\n",
    "    ]\n",
    ")\n",
    "\n",
    "substep.print_interface_info()\n",
    "\n",
    "substep.exit_in_visualize_mode()"
   ]
  },
  {
   "cell_type": "code",
   "execution_count": 5,
   "id": "55e950c3-3151-4daf-9b98-83d3aebe216d",
   "metadata": {
    "tags": []
   },
   "outputs": [
    {
     "name": "stdout",
     "output_type": "stream",
     "text": [
      "Session is run\n"
     ]
    },
    {
     "name": "stderr",
     "output_type": "stream",
     "text": [
      "Setting default log level to \"WARN\".\n",
      "To adjust logging level use sc.setLogLevel(newLevel). For SparkR, use setLogLevel(newLevel).\n",
      "24/06/10 11:00:47 WARN NativeCodeLoader: Unable to load native-hadoop library for your platform... using builtin-java classes where applicable\n"
     ]
    },
    {
     "data": {
      "text/html": [
       "<a href='/proxy/4041/jobs/' target='blank'>Open Spark UI</a>"
      ],
      "text/plain": [
       "<IPython.core.display.HTML object>"
      ]
     },
     "metadata": {},
     "output_type": "display_data"
    }
   ],
   "source": [
    "#4 run spark\n",
    "from sinara.spark import SinaraSpark\n",
    "\n",
    "spark = SinaraSpark.run_session(0)\n",
    "SinaraSpark.ui_url()"
   ]
  },
  {
   "cell_type": "markdown",
   "id": "9a8a998d-7b5a-49fc-b996-3e858250fc69",
   "metadata": {},
   "source": [
    "## Dataset description:\n",
    "The Boston house-price data of Harrison, D. and Rubinfeld, D.L. 'Hedonic prices and the demand for clean air', J. Environ. Economics & Management, vol.5, 81-102, 1978.   Used in Belsley, Kuh & Welsch, 'Regression diagnostics...', Wiley, 1980.   N.B. Various transformations are used in the table on pages 244-261 of the latter.<br>\n",
    "\n",
    "## Feature columns in order:  \n",
    "**TRACT**, a statistical division of the area that is used by researchers to break down towns and cities.<br>\n",
    "**LON** and LAT are the longitude and latitude of the center of the census tract.<br>\n",
    "**MEDV** is the median value of owner-occupied homes, in thousands of dollars.<br>\n",
    "**CRIM** is the per capita crime rate<br>\n",
    "**ZN** is related to how much of the land is zoned for large residential properties<br>\n",
    "**INDUS** is proportion of area used for industry<br>\n",
    "**CHAS** is 1 if the census tract is next to the Charles River<br>\n",
    "**NOX** is the concentration of nitrous oxides in the air<br>\n",
    "**RM** is the average number of rooms per dwelling<br>\n",
    "**AGE** is the proportion of owner-occupied units built before 1940<br>\n",
    "**DIS** is a measure of how far the tract is from centers of employment in Boston<br>\n",
    "**RAD** is a measure of closeness to important highways<br>\n",
    "**TAX** is the property tax rate per $10,000 of value<br>\n",
    "**PTRATIO** is the pupil-teacher ratio by town<br>\n",
    "\n",
    "## Dataset load process\n",
    "1. Download dataset from the internet storage\n",
    "1. Fix columns data and orderlumns data and order"
   ]
  },
  {
   "cell_type": "code",
   "execution_count": 6,
   "id": "70b2d9b3-051c-424c-beec-9da8f177b4ed",
   "metadata": {
    "tags": []
   },
   "outputs": [],
   "source": [
    "#5 load csv dataset into pandas dataframe\n",
    "\n",
    "import pandas as pd\n",
    "\n",
    "csv_url = \"https://ocw.mit.edu/courses/15-071-the-analytics-edge-spring-2017/d4332a3056f44e1a1dec9600a31f21c8_boston.csv\"\n",
    "csv_feature_columns = ['TRACT', 'LON', 'LAT', 'MEDV', 'CRIM', 'ZN', 'INDUS', 'CHAS', 'NOX', 'RM', 'AGE', 'DIS', 'RAD', 'TAX', 'PTRATIO']\n",
    "boston_df = pd.read_csv(csv_url, sep=\",\")[csv_feature_columns]"
   ]
  },
  {
   "cell_type": "code",
   "execution_count": 7,
   "id": "04f8c516-079f-4473-8564-1cf66344872c",
   "metadata": {
    "tags": []
   },
   "outputs": [],
   "source": [
    "#7 convert pandas dataframe to spark dataframe\n",
    "\n",
    "boston_df_spark = spark.createDataFrame(boston_df)"
   ]
  },
  {
   "cell_type": "code",
   "execution_count": 8,
   "id": "47c68c69-46d1-48d0-a239-fac8bf36c6fa",
   "metadata": {
    "tags": []
   },
   "outputs": [
    {
     "name": "stderr",
     "output_type": "stream",
     "text": [
      "                                                                                \r"
     ]
    }
   ],
   "source": [
    "#8 write outputs\n",
    "outputs = substep.outputs()\n",
    "\n",
    "boston_df_spark.write.parquet(outputs.boston_dataset, mode='overwrite')"
   ]
  },
  {
   "cell_type": "code",
   "execution_count": 9,
   "id": "201ff276-6652-49a1-8938-ae5205999afc",
   "metadata": {},
   "outputs": [],
   "source": [
    "#9 stop spark\n",
    "SinaraSpark.stop_session()"
   ]
  },
  {
   "cell_type": "code",
   "execution_count": null,
   "id": "bb13dc6e-3806-4557-b2a8-9fc6098ebf7e",
   "metadata": {},
   "outputs": [],
   "source": []
  }
 ],
 "metadata": {
  "kernelspec": {
   "display_name": "ml",
   "language": "python",
   "name": "python3"
  },
  "language_info": {
   "codemirror_mode": {
    "name": "ipython",
    "version": 3
   },
   "file_extension": ".py",
   "mimetype": "text/x-python",
   "name": "python",
   "nbconvert_exporter": "python",
   "pygments_lexer": "ipython3",
   "version": "3.10.12"
  }
 },
 "nbformat": 4,
 "nbformat_minor": 5
}
